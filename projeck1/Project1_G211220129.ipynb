{
  "nbformat": 4,
  "nbformat_minor": 0,
  "metadata": {
    "colab": {
      "private_outputs": true,
      "provenance": []
    },
    "kernelspec": {
      "name": "python3",
      "display_name": "Python 3"
    },
    "language_info": {
      "name": "python"
    }
  },
  "cells": [
    {
      "cell_type": "code",
      "execution_count": null,
      "metadata": {
        "id": "oCuxsbQJt9lB"
      },
      "outputs": [],
      "source": [
        "import pandas as pd\n",
        "import matplotlib.pyplot as plt\n",
        "\n",
        "# Membaca file CSV\n",
        "data = pd.read_csv('https://dqlab-dataset.s3-ap-southeast-1.amazonaws.com/retail_raw_reduced.csv')\n",
        "\n",
        "# Mengubah kolom 'order_date' menjadi tipe data datetime\n",
        "data['order_date'] = pd.to_datetime(data['order_date'])\n",
        "\n",
        "# Filter data untuk bulan Desember 2019\n",
        "data_december = data[(data['order_date'].dt.month == 12) & (data['order_date'].dt.year == 2019)]\n",
        "\n",
        "# Menghitung jumlah unique customers per tanggal\n",
        "daily_customers = data_december.groupby(data_december['order_date'].dt.day)['customer_id'].nunique()\n",
        "\n",
        "# Mengatur ukuran figure\n",
        "plt.figure(figsize=(10, 5))\n",
        "\n",
        "# Membuat line chart\n",
        "plt.plot(daily_customers.index, daily_customers.values, marker='o')\n",
        "\n",
        "# Memberikan judul dan label sumbu\n",
        "plt.title('Daily Number of Customers in December 2019')\n",
        "plt.xlabel('Date')\n",
        "plt.ylabel('Number of Customers')\n",
        "\n",
        "# Menampilkan line chart\n",
        "plt.show()"
      ]
    },
    {
      "cell_type": "code",
      "source": [
        "data_december = data[(data['order_date'].dt.month == 12)]\n",
        "\n",
        "brand_sales = data_december.groupby('brand')['product_id'].nunique().sort_values(ascending=False)\n",
        "\n",
        "top_5_brands = brand_sales.head(5)\n",
        "\n",
        "plt.figure(figsize=(10, 6))\n",
        "top_5_brands.plot(kind='bar')\n",
        "plt.title('Top 10 Brands in December 2019')\n",
        "plt.xlabel('Brand')\n",
        "plt.ylabel('Total Sales')\n",
        "plt.xticks(rotation=45)\n",
        "plt.show()"
      ],
      "metadata": {
        "id": "zeuBCSH-s8eQ"
      },
      "execution_count": null,
      "outputs": []
    },
    {
      "cell_type": "code",
      "source": [
        "plt.figure(figsize=(8, 8))\n",
        "top_5_brands.plot(kind='pie', autopct='%1.1f%%')\n",
        "plt.title('Brand Sales Distribution in December 2019')\n",
        "plt.ylabel('')\n",
        "plt.show()"
      ],
      "metadata": {
        "id": "NQAZ29butA3_"
      },
      "execution_count": null,
      "outputs": []
    },
    {
      "cell_type": "code",
      "source": [
        "data_december = data[(data['order_date'].dt.month == 12) & (data['order_date'].dt.year == 2019)]\n",
        "\n",
        "brand_quantity = data_december.groupby('brand')['quantity'].sum().sort_values(ascending=False)\n",
        "\n",
        "top_5_brands = brand_quantity.head(5)\n",
        "\n",
        "dataset_top5brand_dec = data_december[data_december['brand'].isin(top_5_brands.index)]\n",
        "\n",
        "print(\"Top 5 brands in December 2019:\")\n",
        "print(top_5_brands)\n"
      ],
      "metadata": {
        "id": "FILzNCO9tGwA"
      },
      "execution_count": null,
      "outputs": []
    },
    {
      "cell_type": "code",
      "source": [
        "import seaborn as sns\n",
        "\n",
        "# Menghitung jumlah quantity terjual per tanggal dan per brand\n",
        "daily_quantity = dataset_top5brand_dec.groupby(['order_date', 'brand'])['quantity'].sum().reset_index()\n",
        "\n",
        "# Membuat multi-line chart\n",
        "plt.figure(figsize=(12, 6))\n",
        "sns.lineplot(x='order_date', y='quantity', hue='brand', data=daily_quantity)\n",
        "\n",
        "# Mencari tanggal dengan lonjakan quantity terjual\n",
        "max_quantity_date = daily_quantity[daily_quantity['quantity'] == daily_quantity['quantity'].max()]['order_date'].values[0]\n",
        "\n",
        "# Menambahkan anotasi pada tanggal dengan lonjakan\n",
        "plt.annotate('Lonjakan', xy=(max_quantity_date, daily_quantity['quantity'].max()),\n",
        "             xytext=(max_quantity_date, daily_quantity['quantity'].max() + 40),\n",
        "             arrowprops=dict(facecolor='black', arrowstyle='->'),\n",
        "             fontsize=12, ha='center')\n",
        "\n",
        "# Memberikan judul dan label sumbu\n",
        "plt.title('Daily Quantity Sold - Top 5 Brands')\n",
        "plt.xlabel('Date')\n",
        "plt.ylabel('Quantity Sold')\n",
        "\n",
        "# Menampilkan legend\n",
        "plt.legend()\n",
        "\n",
        "# Menampilkan multi-line chart\n",
        "plt.show()\n"
      ],
      "metadata": {
        "id": "Ph7uzRmXtQtE"
      },
      "execution_count": null,
      "outputs": []
    },
    {
      "cell_type": "code",
      "source": [
        "# Menghitung jumlah produk terjual per brand\n",
        "product_count = data_december.groupby('brand')['product_id'].nunique().sort_values(ascending=False)\n",
        "\n",
        "# Membuat bar chart\n",
        "plt.figure(figsize=(10, 6))\n",
        "product_count.plot(kind='bar')\n",
        "\n",
        "# Memberikan judul dan label sumbu\n",
        "plt.title('Number of Products Sold - December 2019')\n",
        "plt.xlabel('Brand')\n",
        "plt.ylabel('Number of Products')\n",
        "plt.show()"
      ],
      "metadata": {
        "id": "4W31tBv0tVIT"
      },
      "execution_count": null,
      "outputs": []
    },
    {
      "cell_type": "code",
      "source": [
        "# Filter data untuk produk dengan penjualan di atas atau sama dengan 100\n",
        "above_100 = dataset_top5brand_dec[dataset_top5brand_dec['quantity'] >= 100]\n",
        "\n",
        "# Filter data untuk produk dengan penjualan di bawah 100\n",
        "below_100 = dataset_top5brand_dec[dataset_top5brand_dec['quantity'] < 100]\n",
        "\n",
        "# Menghitung jumlah produk dengan penjualan di atas atau sama dengan 100 per brand\n",
        "above_100_count = above_100.groupby('brand')['product_id'].nunique()\n",
        "\n",
        "# Menghitung jumlah produk dengan penjualan di bawah 100 per brand\n",
        "below_100_count = below_100.groupby('brand')['product_id'].nunique()\n",
        "\n",
        "# Menggabungkan kedua DataFrame\n",
        "stacked_data = pd.concat([above_100_count, below_100_count], axis=1, keys=['>=100', '<100'])\n",
        "\n",
        "# Membuat stacked chart\n",
        "plt.figure(figsize=(10, 6))\n",
        "stacked_data.plot(kind='bar', stacked=True)\n",
        "\n",
        "# Memberikan judul dan label sumbu\n",
        "plt.title('Product Sales Breakdown - December 2019')\n",
        "plt.xlabel('Brand')\n",
        "plt.ylabel('Number of Products')\n",
        "\n",
        "# Menampilkan legend\n",
        "plt.legend()\n",
        "\n",
        "# Menampilkan\n",
        "plt.show()"
      ],
      "metadata": {
        "id": "5I_DqApQtfoY"
      },
      "execution_count": null,
      "outputs": []
    },
    {
      "cell_type": "code",
      "source": [
        "# Menghitung median harga per product_id dalam top 5 brand\n",
        "median_prices = dataset_top5brand_dec.groupby('product_id')['item_price'].median()\n",
        "\n",
        "# Membuat histogram\n",
        "plt.figure(figsize=(10, 6))\n",
        "plt.hist(median_prices, bins=20)\n",
        "\n",
        "# Memberikan judul dan label sumbu\n",
        "plt.title('Distribution of Product Prices - Top 5 Brands')\n",
        "plt.xlabel('Price')\n",
        "plt.ylabel('Frequency')\n",
        "\n",
        "# Menampilkan histogram\n",
        "plt.show()\n"
      ],
      "metadata": {
        "id": "2GM6LfUCtjfG"
      },
      "execution_count": null,
      "outputs": []
    },
    {
      "cell_type": "code",
      "source": [
        "# Membuat kolom GMV\n",
        "dataset_top5brand_dec['GMV'] = dataset_top5brand_dec['item_price'] * dataset_top5brand_dec['quantity']\n",
        "\n",
        "# Menggabungkan data quantity dan GMV per product_id\n",
        "product_stats = dataset_top5brand_dec.groupby('product_id').agg({'quantity': 'sum', 'GMV': 'sum'})\n",
        "\n",
        "# Membuat scatter plot antara quantity dan GMV\n",
        "plt.figure(figsize=(10, 6))\n",
        "plt.scatter(product_stats['quantity'], product_stats['GMV'])\n",
        "\n",
        "# Memberikan judul dan label sumbu\n",
        "plt.title('Quantity vs GMV')\n",
        "plt.xlabel('Quantity')\n",
        "plt.ylabel('GMV')\n",
        "\n",
        "# Menampilkan scatter plot\n",
        "plt.show()\n",
        "\n"
      ],
      "metadata": {
        "id": "ZBJk86Cstoh5"
      },
      "execution_count": null,
      "outputs": []
    },
    {
      "cell_type": "code",
      "source": [
        "# Menggabungkan data quantity dan median harga per product_id\n",
        "product_stats = dataset_top5brand_dec.groupby('product_id').agg({'quantity': 'sum', 'item_price': 'median'})\n",
        "\n",
        "# Membuat scatter plot antara median harga dan quantity\n",
        "plt.figure(figsize=(10, 6))\n",
        "plt.scatter(product_stats['item_price'], product_stats['quantity'])\n",
        "\n",
        "# Memberikan judul dan label sumbu\n",
        "plt.title('Median Price vs Quantity')\n",
        "plt.xlabel('Median Price')\n",
        "plt.ylabel('Quantity')\n",
        "\n",
        "# Menampilkan scatter plot\n",
        "plt.show()"
      ],
      "metadata": {
        "id": "AlIdpecNtuPT"
      },
      "execution_count": null,
      "outputs": []
    }
  ]
}